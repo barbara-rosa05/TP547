{
 "cells": [
  {
   "cell_type": "markdown",
   "id": "e86a0f33",
   "metadata": {},
   "source": [
    "# TP547 – Princípios de Simulação de Sistemas de Comunicação\n",
    "## Análise de Cadeia de Markov com Estados Absorventes\n",
    "\n",
    "**Estudante:** Bárbara Cássia Florentino Rosa \n",
    "\n",
    "**Professor:** Samuel Baraldi Mafra \n",
    "\n",
    "**Instituição:** INATEL \n",
    "\n",
    "**Tema:** Analisar o comportamento de uma mosca em um sistema estocástico com dois estados absorventes usando Cadeias de Markov. Este notebook resolve passo a passo os itens propostos, utilizando visualizações, decomposição matricial e interpretação dos resultados.\n",
    "\n",
    "---\n",
    "\n",
    "## Conceitos Envolvidos\n",
    "\n",
    "### Cadeias de Markov\n",
    "Modelos probabilísticos com memória limitada, onde o próximo estado depende apenas do estado atual.\n",
    "\n",
    "### Estados Absorventes\n",
    "Um estado é absorvente se, uma vez atingido, o sistema permanece nele com probabilidade 1.\n",
    "\n",
    "No nosso problema:\n",
    "- Estado 0 e estado 3 são absorventes (contêm aranhas).\n",
    "- Estados 1 e 2 são transitórios (mosca pode sair deles)."
   ]
  },
  {
   "cell_type": "markdown",
   "id": "322b0957",
   "metadata": {},
   "source": [
    "## 1. Importação de Bibliotecas e Definição da Matriz de Transição"
   ]
  },
  {
   "cell_type": "code",
   "execution_count": 62,
   "id": "12da5a52",
   "metadata": {},
   "outputs": [],
   "source": [
    "import numpy as np\n",
    "import matplotlib.pyplot as plt\n",
    "import seaborn as sns\n",
    "import networkx as nx\n",
    "import pandas as pd\n",
    "import networkx as nx\n",
    "import matplotlib.pyplot as plt\n",
    "import matplotlib.patches as mpatches"
   ]
  },
  {
   "cell_type": "code",
   "execution_count": 63,
   "id": "4cb9f970",
   "metadata": {},
   "outputs": [],
   "source": [
    "# Definição dos estados: 0, 1, 2, 3\n",
    "# P[atual][próximo]\n",
    "P = np.array([\n",
    "    [1.0, 0.0, 0.0, 0.0],   # estado 0 (absorvente)\n",
    "    [0.3, 0.4, 0.3, 0.0],   # estado 1\n",
    "    [0.0, 0.3, 0.4, 0.3],   # estado 2\n",
    "    [0.0, 0.0, 0.0, 1.0]    # estado 3 (absorvente)\n",
    "])"
   ]
  },
  {
   "cell_type": "markdown",
   "id": "6d6e22e2",
   "metadata": {},
   "source": [
    "## a) O diagrama de Transição de estados."
   ]
  },
  {
   "cell_type": "code",
   "execution_count": 64,
   "id": "eaf56167",
   "metadata": {},
   "outputs": [],
   "source": [
    "def plot_transicao_markov(P):\n",
    "    \"\"\"\n",
    "    Plota o diagrama de transição de estados de uma cadeia de Markov.\n",
    "\n",
    "    Parâmetros:\n",
    "    -----------\n",
    "    P : np.ndarray (shape [n, n])\n",
    "        Matriz de transição da cadeia de Markov.\n",
    "\n",
    "    O grafo mostra:\n",
    "    - Estados absorventes destacados em vermelho (estados 0 e 3).\n",
    "    - Estados transitórios em verde.\n",
    "    - Pesos das transições como rótulos nas arestas.\n",
    "    \"\"\"\n",
    "    # Criação do grafo direcionado\n",
    "    G = nx.DiGraph()\n",
    "\n",
    "    states = ['0', '1', '2', '3']\n",
    "    absorbing_states = ['0', '3']\n",
    "    transient_states = ['1', '2']\n",
    "\n",
    "    # Adiciona arestas com pesos baseados na matriz de transição P\n",
    "    for i in range(4):\n",
    "        for j in range(4):\n",
    "            if P[i][j] > 0:\n",
    "                G.add_edge(states[i], states[j], weight=P[i][j])\n",
    "\n",
    "    # Layout fixo para visualização simétrica\n",
    "    custom_pos = {\n",
    "        '0': (-1, 0),\n",
    "        '1': (-0.3, 0),\n",
    "        '2': (0.3, 0),\n",
    "        '3': (1, 0)\n",
    "    }\n",
    "\n",
    "    # Define cores dos nós com base no tipo de estado\n",
    "    node_colors = [\n",
    "        'red' if state in absorbing_states else 'lightgreen'\n",
    "        for state in states\n",
    "    ]\n",
    "\n",
    "    # Rótulos das arestas (probabilidades)\n",
    "    edge_labels = nx.get_edge_attributes(G, 'weight')\n",
    "\n",
    "    # Plotagem do grafo\n",
    "    plt.figure(figsize=(14, 7))\n",
    "    nx.draw(\n",
    "        G, custom_pos, with_labels=True,\n",
    "        node_color=node_colors, node_size=2000,\n",
    "        font_size=14, edge_color='gray', arrows=True\n",
    "    )\n",
    "    nx.draw_networkx_edge_labels(\n",
    "        G, custom_pos,\n",
    "        edge_labels={k: f'{v:.1f}' for k, v in edge_labels.items()},\n",
    "        font_size=12\n",
    "    )\n",
    "\n",
    "    # Legenda dos tipos de estados\n",
    "    absorbing_patch = mpatches.Patch(color='red', label='Estado absorvente')\n",
    "    transient_patch = mpatches.Patch(color='lightgreen', label='Estado transitório')\n",
    "    plt.legend(\n",
    "        handles=[absorbing_patch, transient_patch],\n",
    "        loc='lower center', bbox_to_anchor=(0.5, -0.1), ncol=2\n",
    "    )\n",
    "\n",
    "    plt.title(\"Diagrama de Transição de Estados\", fontsize=14)\n",
    "    plt.axis('off')\n",
    "    plt.tight_layout()\n",
    "    plt.show()"
   ]
  },
  {
   "cell_type": "code",
   "execution_count": 65,
   "id": "ba1f0f24",
   "metadata": {},
   "outputs": [
    {
     "name": "stderr",
     "output_type": "stream",
     "text": [
      "C:\\Users\\barbararosa\\AppData\\Local\\Temp\\ipykernel_19724\\276598051.py:68: UserWarning: This figure includes Axes that are not compatible with tight_layout, so results might be incorrect.\n",
      "  plt.tight_layout()\n"
     ]
    },
    {
     "data": {
      "image/png": "[encoded data removed]",
      "text/plain": [
       "<Figure size 1400x700 with 1 Axes>"
      ]
     },
     "metadata": {},
     "output_type": "display_data"
    }
   ],
   "source": [
    "plot_transicao_markov(P)"
   ]
  },
  {
   "cell_type": "markdown",
   "id": "2f65e733",
   "metadata": {},
   "source": [
    "> Este diagrama de transição de estados também cumpre o papel de \"gráfico com transições e absorção\" solicitado no item (f), pois representa visualmente a dinâmica da mosca entre compartimentos e destaca os estados absorventes onde a simulação se encerra."
   ]
  },
  {
   "cell_type": "markdown",
   "id": "abe968c6",
   "metadata": {},
   "source": [
    "## b) Matriz de Transição\n",
    "\n",
    "#### A matriz representa as probabilidades de mover de um estado para outro a cada minuto. As linhas indicam o estado atual e as colunas, o próximo estado."
   ]
  },
  {
   "cell_type": "markdown",
   "id": "293f98fc",
   "metadata": {},
   "source": []
  },
  {
   "cell_type": "code",
   "execution_count": 66,
   "id": "9097faaf",
   "metadata": {},
   "outputs": [],
   "source": [
    "def exibir_matriz_transicao(P):\n",
    "    \"\"\"\n",
    "    Exibe a matriz de transição de uma cadeia de Markov com rótulos e explicação.\n",
    "\n",
    "    Parâmetros:\n",
    "    -----------\n",
    "    P : np.ndarray (shape [n, n])\n",
    "        Matriz de transição da cadeia de Markov.\n",
    "\n",
    "    A função imprime a matriz com rótulos legíveis e destaca a interpretação de P[1][0],\n",
    "    que representa a transição do estado 1 para o estado 0 (estado absorvente).\n",
    "    \"\"\"\n",
    "    estados = ['0', '1', '2', '3']\n",
    "    P_df = pd.DataFrame(P, columns=estados, index=estados)\n",
    "\n",
    "    print(\"Matriz de Transição de Estados (linhas = estado atual, colunas = próximo estado):\")\n",
    "    display(P_df)\n",
    "\n",
    "    print(\"\\nP[1][0] = {:.1f} → probabilidade de ir do estado 1 para o estado 0 (aranha à esquerda).\".format(P[1][0]))\n"
   ]
  },
  {
   "cell_type": "code",
   "execution_count": 67,
   "id": "638e0893",
   "metadata": {},
   "outputs": [
    {
     "name": "stdout",
     "output_type": "stream",
     "text": [
      "Matriz de Transição de Estados (linhas = estado atual, colunas = próximo estado):\n"
     ]
    },
    {
     "data": {
      "text/html": [
       "<div>\n",
       "<style scoped>\n",
       "    .dataframe tbody tr th:only-of-type {\n",
       "        vertical-align: middle;\n",
       "    }\n",
       "\n",
       "    .dataframe tbody tr th {\n",
       "        vertical-align: top;\n",
       "    }\n",
       "\n",
       "    .dataframe thead th {\n",
       "        text-align: right;\n",
       "    }\n",
       "</style>\n",
       "<table border=\"1\" class=\"dataframe\">\n",
       "  <thead>\n",
       "    <tr style=\"text-align: right;\">\n",
       "      <th></th>\n",
       "      <th>0</th>\n",
       "      <th>1</th>\n",
       "      <th>2</th>\n",
       "      <th>3</th>\n",
       "    </tr>\n",
       "  </thead>\n",
       "  <tbody>\n",
       "    <tr>\n",
       "      <th>0</th>\n",
       "      <td>1.0</td>\n",
       "      <td>0.0</td>\n",
       "      <td>0.0</td>\n",
       "      <td>0.0</td>\n",
       "    </tr>\n",
       "    <tr>\n",
       "      <th>1</th>\n",
       "      <td>0.3</td>\n",
       "      <td>0.4</td>\n",
       "      <td>0.3</td>\n",
       "      <td>0.0</td>\n",
       "    </tr>\n",
       "    <tr>\n",
       "      <th>2</th>\n",
       "      <td>0.0</td>\n",
       "      <td>0.3</td>\n",
       "      <td>0.4</td>\n",
       "      <td>0.3</td>\n",
       "    </tr>\n",
       "    <tr>\n",
       "      <th>3</th>\n",
       "      <td>0.0</td>\n",
       "      <td>0.0</td>\n",
       "      <td>0.0</td>\n",
       "      <td>1.0</td>\n",
       "    </tr>\n",
       "  </tbody>\n",
       "</table>\n",
       "</div>"
      ],
      "text/plain": [
       "     0    1    2    3\n",
       "0  1.0  0.0  0.0  0.0\n",
       "1  0.3  0.4  0.3  0.0\n",
       "2  0.0  0.3  0.4  0.3\n",
       "3  0.0  0.0  0.0  1.0"
      ]
     },
     "metadata": {},
     "output_type": "display_data"
    },
    {
     "name": "stdout",
     "output_type": "stream",
     "text": [
      "\n",
      "P[1][0] = 0.3 → probabilidade de ir do estado 1 para o estado 0 (aranha à esquerda).\n"
     ]
    }
   ],
   "source": [
    "exibir_matriz_transicao(P)"
   ]
  },
  {
   "cell_type": "markdown",
   "id": "7de26e46",
   "metadata": {},
   "source": [
    "## c) Probabilidade de estar na teia no 3º minuto\n",
    "\n",
    "Vamos assumir que a mosca começa no estado 1.  \n",
    "Desejamos saber a probabilidade de ela estar nos **estados absorventes (0 ou 3)** após 3 passos.\n",
    "\n",
    "A distribuição de estados após 3 minutos pode ser calculada com a multiplicação matricial:\n",
    "\n",
    "$$\n",
    "P^{(3)} = P \\cdot P \\cdot P\n",
    "$$\n",
    "\n",
    "Onde o vetor de estado inicial é:\n",
    "\n",
    "$$\n",
    "\\mathbf{v}_0 = \\begin{bmatrix} 0 & 1 & 0 & 0 \\end{bmatrix}\n",
    "$$\n",
    "\n",
    "A multiplicação:\n",
    "$$\n",
    "\\mathbf{v}_3 = \\mathbf{v}_0 \\cdot P^3\n",
    "$$\n",
    "\n",
    "nos dará a distribuição de probabilidade em cada estado no terceiro minuto."
   ]
  },
  {
   "cell_type": "code",
   "execution_count": 75,
   "id": "af1a1978",
   "metadata": {},
   "outputs": [],
   "source": [
    "def calcular_distribuicao_apos_3_passos(P):\n",
    "    \"\"\"\n",
    "    Calcula e exibe a matriz de transição P³ e a distribuição de probabilidade\n",
    "    após 3 passos, assumindo que a mosca começa no estado 1.\n",
    "\n",
    "    Parâmetros:\n",
    "    -----------\n",
    "    P : np.ndarray (shape [4, 4])\n",
    "        Matriz de transição da cadeia de Markov.\n",
    "\n",
    "    Exibe:\n",
    "    - A matriz P elevado à terceira potência.\n",
    "    - A distribuição de probabilidade após 3 passos.\n",
    "    - A probabilidade total de absorção (estados 0 e 3).\n",
    "    \"\"\"\n",
    "    # Calcula P³\n",
    "    P3 = np.linalg.matrix_power(P, 3)\n",
    "    estados = ['0', '1', '2', '3']\n",
    "    P3_df = pd.DataFrame(P3, columns=estados, index=estados)\n",
    "\n",
    "    print(\"Matriz P³ (após 3 passos):\")\n",
    "    display(P3_df)\n",
    "\n",
    "    # Vetor estado inicial: começa no estado 1\n",
    "    v = np.array([0, 1, 0, 0])\n",
    "\n",
    "    # Aplica a transição 3 vezes\n",
    "    for _ in range(3):\n",
    "        v = v @ P\n",
    "\n",
    "    # Mostra a distribuição\n",
    "    print(\"Distribuição de probabilidade após 3 passos (começando do estado 1):\")\n",
    "    for i, prob in enumerate(v):\n",
    "        print(f\" - Estado {i}: {prob:.4f}\")\n",
    "\n",
    "    # Probabilidade total de absorção (em estados 0 ou 3)\n",
    "    absorcao = v[0] + v[3]\n",
    "    print(f\"\\nProbabilidade total de absorção (em estados 0 ou 3) no 3º minuto: {absorcao * 100:.4f}%\")"
   ]
  },
  {
   "cell_type": "code",
   "execution_count": 76,
   "id": "44b9bae3",
   "metadata": {},
   "outputs": [
    {
     "name": "stdout",
     "output_type": "stream",
     "text": [
      "Matriz P³ (após 3 passos):\n"
     ]
    },
    {
     "data": {
      "text/html": [
       "<div>\n",
       "<style scoped>\n",
       "    .dataframe tbody tr th:only-of-type {\n",
       "        vertical-align: middle;\n",
       "    }\n",
       "\n",
       "    .dataframe tbody tr th {\n",
       "        vertical-align: top;\n",
       "    }\n",
       "\n",
       "    .dataframe thead th {\n",
       "        text-align: right;\n",
       "    }\n",
       "</style>\n",
       "<table border=\"1\" class=\"dataframe\">\n",
       "  <thead>\n",
       "    <tr style=\"text-align: right;\">\n",
       "      <th></th>\n",
       "      <th>0</th>\n",
       "      <th>1</th>\n",
       "      <th>2</th>\n",
       "      <th>3</th>\n",
       "    </tr>\n",
       "  </thead>\n",
       "  <tbody>\n",
       "    <tr>\n",
       "      <th>0</th>\n",
       "      <td>1.000</td>\n",
       "      <td>0.000</td>\n",
       "      <td>0.000</td>\n",
       "      <td>0.000</td>\n",
       "    </tr>\n",
       "    <tr>\n",
       "      <th>1</th>\n",
       "      <td>0.495</td>\n",
       "      <td>0.172</td>\n",
       "      <td>0.171</td>\n",
       "      <td>0.162</td>\n",
       "    </tr>\n",
       "    <tr>\n",
       "      <th>2</th>\n",
       "      <td>0.162</td>\n",
       "      <td>0.171</td>\n",
       "      <td>0.172</td>\n",
       "      <td>0.495</td>\n",
       "    </tr>\n",
       "    <tr>\n",
       "      <th>3</th>\n",
       "      <td>0.000</td>\n",
       "      <td>0.000</td>\n",
       "      <td>0.000</td>\n",
       "      <td>1.000</td>\n",
       "    </tr>\n",
       "  </tbody>\n",
       "</table>\n",
       "</div>"
      ],
      "text/plain": [
       "       0      1      2      3\n",
       "0  1.000  0.000  0.000  0.000\n",
       "1  0.495  0.172  0.171  0.162\n",
       "2  0.162  0.171  0.172  0.495\n",
       "3  0.000  0.000  0.000  1.000"
      ]
     },
     "metadata": {},
     "output_type": "display_data"
    },
    {
     "name": "stdout",
     "output_type": "stream",
     "text": [
      "Distribuição de probabilidade após 3 passos (começando do estado 1):\n",
      " - Estado 0: 0.4950\n",
      " - Estado 1: 0.1720\n",
      " - Estado 2: 0.1710\n",
      " - Estado 3: 0.1620\n",
      "\n",
      "Probabilidade total de absorção (em estados 0 ou 3) no 3º minuto: 65.7000%\n"
     ]
    }
   ],
   "source": [
    "calcular_distribuicao_apos_3_passos(P)"
   ]
  },
  {
   "cell_type": "markdown",
   "id": "7ec49d8b",
   "metadata": {},
   "source": [
    "## d) Número Médio de Passos até a Absorção\n",
    "\n",
    "Para calcular isso, isolamos a **submatriz Q**, que contém apenas os estados transitórios (1 e 2):\n",
    "\n",
    "$$\n",
    "Q = \n",
    "\\begin{bmatrix}\n",
    "0.4 & 0.3 \\\\\n",
    "0.3 & 0.4\n",
    "\\end{bmatrix}\n",
    "$$\n",
    "\n",
    "A matriz fundamental **N** é dada por:\n",
    "\n",
    "$$\n",
    "N = (I - Q)^{-1}\n",
    "$$\n",
    "\n",
    "A soma das linhas de $N$ nos fornece o **tempo médio até a absorção** a partir de cada estado inicial transitório.\n",
    "\n",
    "\n"
   ]
  },
  {
   "cell_type": "markdown",
   "id": "7e5ac16f",
   "metadata": {},
   "source": []
  },
  {
   "cell_type": "code",
   "execution_count": 70,
   "id": "00f21d3e",
   "metadata": {},
   "outputs": [],
   "source": [
    "def calcular_tempo_medio_ate_absorcao(P):\n",
    "    \"\"\"\n",
    "    Calcula e exibe o tempo médio até a absorção e a matriz fundamental N\n",
    "    de uma cadeia de Markov com dois estados transitórios (1 e 2)\n",
    "    e dois estados absorventes (0 e 3).\n",
    "\n",
    "    Parâmetros:\n",
    "    -----------\n",
    "    P : np.ndarray (shape [4, 4])\n",
    "        Matriz de transição da cadeia de Markov.\n",
    "\n",
    "    Exibe:\n",
    "    - A matriz fundamental N = (I - Q)^(-1), onde Q representa os estados transitórios.\n",
    "    - O tempo médio até a absorção partindo dos estados 1 e 2.\n",
    "    \"\"\"\n",
    "    # Isola a submatriz Q com os estados transitórios (1 e 2)\n",
    "    Q = P[1:3, 1:3]\n",
    "    I = np.eye(Q.shape[0])\n",
    "    N = np.linalg.inv(I - Q)\n",
    "\n",
    "    # Cálculo do tempo médio até a absorção\n",
    "    tempo_medio = N @ np.ones((2, 1))\n",
    "\n",
    "    print(\"Tempo médio até absorção por estado inicial:\")\n",
    "    for i, t in enumerate(tempo_medio.flatten(), start=1):\n",
    "        print(f\" - Estado {i}: {t:.4f} passos\")\n",
    "\n",
    "    print(\"\\nMatriz Fundamental N:\")\n",
    "    print(N)"
   ]
  },
  {
   "cell_type": "code",
   "execution_count": 71,
   "id": "d4bf2eb1",
   "metadata": {},
   "outputs": [
    {
     "name": "stdout",
     "output_type": "stream",
     "text": [
      "Tempo médio até absorção por estado inicial:\n",
      " - Estado 1: 3.3333 passos\n",
      " - Estado 2: 3.3333 passos\n",
      "\n",
      "Matriz Fundamental N:\n",
      "[[2.22222222 1.11111111]\n",
      " [1.11111111 2.22222222]]\n"
     ]
    }
   ],
   "source": [
    "calcular_tempo_medio_ate_absorcao(P)"
   ]
  },
  {
   "cell_type": "markdown",
   "id": "dca7c3e7",
   "metadata": {},
   "source": [
    "## e) Probabilidade Final de Ser Absorvido\n",
    "\n",
    "A matriz **B** fornece a **probabilidade de absorção** de cada estado transitório para os estados absorventes:\n",
    "\n",
    "$$\n",
    "B = N \\cdot R\n",
    "$$\n",
    "\n",
    "- Cada linha representa o estado inicial (1 ou 2)\n",
    "- Cada coluna representa a absorção em 0 ou 3\n"
   ]
  },
  {
   "cell_type": "code",
   "execution_count": 77,
   "id": "2b5a2a0b",
   "metadata": {},
   "outputs": [],
   "source": [
    "def calcular_probabilidade_absorcao(P, N):\n",
    "    \"\"\"\n",
    "    Calcula e exibe a matriz de absorção B de uma cadeia de Markov,\n",
    "    mostrando a probabilidade de ser absorvido nos estados 0 e 3\n",
    "    ao iniciar nos estados transitórios 1 ou 2.\n",
    "\n",
    "    Parâmetros:\n",
    "    -----------\n",
    "    P : np.ndarray (shape [4, 4])\n",
    "        Matriz de transição da cadeia de Markov.\n",
    "\n",
    "    N : np.ndarray (shape [2, 2])\n",
    "        Matriz fundamental calculada a partir da submatriz Q dos estados transitórios.\n",
    "\n",
    "    Exibe:\n",
    "    - A submatriz R com transições dos estados transitórios para os absorventes.\n",
    "    - A matriz B = N @ R, com as probabilidades finais de absorção.\n",
    "    \"\"\"\n",
    "    # Submatriz R: transições dos estados transitórios (1 e 2) para absorventes (0 e 3)\n",
    "    R = P[1:3, [0, 3]]\n",
    "\n",
    "    # Matriz de absorção: B = N × R\n",
    "    B = N @ R\n",
    "\n",
    "    print(\"Probabilidade de ser absorvido a partir de cada estado transitório:\\n\")\n",
    "    for i in range(2):\n",
    "        print(f\"Iniciando no estado {i + 1}:\")\n",
    "        print(f\" - Prob. de absorção no estado 0 (aranha à esquerda): {B[i][0] * 100:.4f}%\")\n",
    "        print(f\" - Prob. de absorção no estado 3 (aranha à direita): {B[i][1] * 100:.4f}%\\n\")"
   ]
  },
  {
   "cell_type": "code",
   "execution_count": 80,
   "id": "84e1ee36",
   "metadata": {},
   "outputs": [
    {
     "name": "stdout",
     "output_type": "stream",
     "text": [
      "Probabilidade de ser absorvido a partir de cada estado transitório:\n",
      "\n",
      "Iniciando no estado 1:\n",
      " - Prob. de absorção no estado 0 (aranha à esquerda): 66.6667%\n",
      " - Prob. de absorção no estado 3 (aranha à direita): 33.3333%\n",
      "\n",
      "Iniciando no estado 2:\n",
      " - Prob. de absorção no estado 0 (aranha à esquerda): 33.3333%\n",
      " - Prob. de absorção no estado 3 (aranha à direita): 66.6667%\n",
      "\n"
     ]
    }
   ],
   "source": [
    "calcular_probabilidade_absorcao(P, N)"
   ]
  }
 ],
 "metadata": {
  "kernelspec": {
   "display_name": "Python 3",
   "language": "python",
   "name": "python3"
  },
  "language_info": {
   "codemirror_mode": {
    "name": "ipython",
    "version": 3
   },
   "file_extension": ".py",
   "mimetype": "text/x-python",
   "name": "python",
   "nbconvert_exporter": "python",
   "pygments_lexer": "ipython3",
   "version": "3.13.3"
  }
 },
 "nbformat": 4,
 "nbformat_minor": 5
}
